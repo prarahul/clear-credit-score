{
 "cells": [
  {
   "cell_type": "markdown",
   "id": "351c76a9",
   "metadata": {},
   "source": [
    "# EDA — German Credit (OpenML id=31)\n",
    "Quick exploration: schema, class balance, numeric summary, correlations."
   ]
  },
  {
   "cell_type": "code",
   "execution_count": null,
   "id": "b4b721e8",
   "metadata": {},
   "outputs": [],
   "source": [
    "import pandas as pd\n",
    "import seaborn as sns\n",
    "import matplotlib.pyplot as plt\n",
    "from sklearn.datasets import fetch_openml\n",
    "sns.set(style=\"whitegrid\", context=\"notebook\")"
   ]
  },
  {
   "cell_type": "code",
   "execution_count": null,
   "id": "ab923b35",
   "metadata": {},
   "outputs": [],
   "source": [
    "data = fetch_openml(name=\"credit-g\", version=1, as_frame=True)\n",
    "df = data.frame.copy()\n",
    "df.head()"
   ]
  },
  {
   "cell_type": "code",
   "execution_count": null,
   "id": "81d5bddb",
   "metadata": {},
   "outputs": [],
   "source": [
    "df.info()"
   ]
  },
  {
   "cell_type": "code",
   "execution_count": null,
   "id": "3808eb48",
   "metadata": {},
   "outputs": [],
   "source": [
    "ax = (df['class'].str.lower().value_counts(normalize=True)\n",
    "      .rename('share')\n",
    "      .mul(100)\n",
    "      .plot(kind='bar', color=['#4caf50', '#f44336']))\n",
    "ax.set_title('Target distribution (%)'); ax.set_ylabel('%'); ax.set_xlabel('class');\n",
    "plt.show()"
   ]
  },
  {
   "cell_type": "code",
   "execution_count": null,
   "id": "6ad04864",
   "metadata": {},
   "outputs": [],
   "source": [
    "num_cols = df.select_dtypes(include=['number']).columns\n",
    "df[num_cols].describe().T"
   ]
  },
  {
   "cell_type": "code",
   "execution_count": null,
   "id": "2401414d",
   "metadata": {},
   "outputs": [],
   "source": [
    "corr = df[num_cols].corr(numeric_only=True)\n",
    "plt.figure(figsize=(6,5), dpi=120)\n",
    "sns.heatmap(corr, cmap='coolwarm', center=0, annot=False)\n",
    "plt.title('Numeric feature correlation')\n",
    "plt.tight_layout()\n",
    "plt.show()"
   ]
  }
 ],
 "metadata": {
  "language_info": {
   "name": "python"
  }
 },
 "nbformat": 4,
 "nbformat_minor": 5
}
